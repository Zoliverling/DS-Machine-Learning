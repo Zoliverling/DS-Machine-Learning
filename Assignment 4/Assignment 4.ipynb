{
 "cells": [
  {
   "cell_type": "code",
   "execution_count": 3,
   "metadata": {},
   "outputs": [],
   "source": [
    "import numpy as np\n",
    "from sklearn.neighbors import KNeighborsClassifier\n",
    "from sklearn.model_selection import train_test_split, cross_val_score\n",
    "from sklearn.metrics import confusion_matrix\n",
    "import matplotlib.pyplot as plt\n",
    "import gzip"
   ]
  },
  {
   "cell_type": "code",
   "execution_count": 4,
   "metadata": {},
   "outputs": [],
   "source": [
    "def load_data(file_path):\n",
    "    with gzip.open(file_path, 'rt') as f:\n",
    "        data = np.loadtxt(f)\n",
    "    labels = data[:, 0].astype(int)\n",
    "    images = data[:, 1:].reshape(-1, 16, 16) / 255.0  # Normalize pixel values\n",
    "    return images, labels"
   ]
  },
  {
   "cell_type": "code",
   "execution_count": 8,
   "metadata": {},
   "outputs": [
    {
     "name": "stdout",
     "output_type": "stream",
     "text": [
      "(7291, 256) (7291,)\n",
      "(2007, 256) (2007,)\n"
     ]
    }
   ],
   "source": [
    "def load_data(filename):\n",
    "    with gzip.open(filename, 'rt') as f:\n",
    "        data = np.loadtxt(f)\n",
    "    return data[:, 1:], data[:, 0]\n",
    "\n",
    "def normalize(X):\n",
    "    return X / 255.0\n",
    "\n",
    "X_train, y_train = load_data('zip.train.gz')\n",
    "X_test, y_test = load_data('zip.test.gz')\n",
    "\n",
    "print(X_train.shape, y_train.shape)\n",
    "print(X_test.shape, y_test.shape)\n",
    "\n",
    "X_train = normalize(X_train)\n",
    "X_test = normalize(X_test)\n",
    "\n",
    "# cross val\n",
    "k_values = range(1, 21)\n",
    "cv_errors = []\n",
    "cv_std_errors = []\n",
    "\n",
    "for k in k_values:\n",
    "    knn = KNeighborsClassifier(n_neighbors=k)\n",
    "    scores = cross_val_score(knn, X_train, y_train, cv=5, scoring='accuracy')\n",
    "    cv_errors.append(1 - np.mean(scores))\n",
    "    cv_std_errors.append(np.std(scores) / np.sqrt(5))"
   ]
  },
  {
   "cell_type": "code",
   "execution_count": 7,
   "metadata": {},
   "outputs": [
    {
     "data": {
      "image/png": "[encoded data removed]",
      "text/plain": [
       "<Figure size 432x288 with 1 Axes>"
      ]
     },
     "metadata": {
      "needs_background": "light"
     },
     "output_type": "display_data"
    }
   ],
   "source": [
    "plt.errorbar(k_values, cv_errors, yerr=cv_std_errors, fmt='-o')\n",
    "plt.xlabel('Number of Neighbors (k)')\n",
    "plt.ylabel('Average Test Error')\n",
    "plt.title('k-NN Test Error with 5-fold Cross-Validation')\n",
    "plt.show()"
   ]
  },
  {
   "cell_type": "code",
   "execution_count": 8,
   "metadata": {},
   "outputs": [],
   "source": [
    "min_error = min(cv_errors)\n",
    "min_error_index = cv_errors.index(min_error)\n",
    "optimal_k = k_values[min_error_index]"
   ]
  },
  {
   "cell_type": "code",
   "execution_count": 10,
   "metadata": {},
   "outputs": [
    {
     "name": "stdout",
     "output_type": "stream",
     "text": [
      "Optimal value of k: 1\n"
     ]
    }
   ],
   "source": [
    "for i in range(min_error_index, len(cv_errors)):\n",
    "    if cv_errors[i] <= min_error + cv_std_errors[i]:\n",
    "        optimal_k = k_values[i]\n",
    "        break\n",
    "\n",
    "print(f\"Optimal value of k: {optimal_k}\")"
   ]
  },
  {
   "cell_type": "code",
   "execution_count": 13,
   "metadata": {},
   "outputs": [
    {
     "data": {
      "text/plain": [
       "KNeighborsClassifier(n_neighbors=1)"
      ]
     },
     "execution_count": 13,
     "metadata": {},
     "output_type": "execute_result"
    }
   ],
   "source": [
    "knn_final = KNeighborsClassifier(n_neighbors=optimal_k)\n",
    "knn_final.fit(X_train, y_train)"
   ]
  },
  {
   "cell_type": "code",
   "execution_count": 14,
   "metadata": {},
   "outputs": [
    {
     "name": "stdout",
     "output_type": "stream",
     "text": [
      "Confusion Matrix:\n",
      "[[355   0   2   0   0   0   0   1   0   1]\n",
      " [  0 255   0   0   6   0   2   1   0   0]\n",
      " [  6   1 183   2   1   0   0   2   3   0]\n",
      " [  3   0   2 154   0   5   0   0   0   2]\n",
      " [  0   3   1   0 182   1   2   2   1   8]\n",
      " [  2   1   2   4   0 145   2   0   3   1]\n",
      " [  0   0   1   0   2   3 164   0   0   0]\n",
      " [  0   1   1   1   4   0   0 139   0   1]\n",
      " [  5   0   1   6   1   1   0   1 148   3]\n",
      " [  0   0   1   0   2   0   0   4   1 169]]\n"
     ]
    }
   ],
   "source": [
    "y_pred = knn_final.predict(X_test)\n",
    "conf_matrix = confusion_matrix(y_test, y_pred)\n",
    "print(\"Confusion Matrix:\")\n",
    "print(conf_matrix)"
   ]
  },
  {
   "cell_type": "code",
   "execution_count": 15,
   "metadata": {},
   "outputs": [
    {
     "name": "stdout",
     "output_type": "stream",
     "text": [
      "Conditional Test Error: 0.05630293971101141\n"
     ]
    }
   ],
   "source": [
    "test_error = 1 - np.trace(conf_matrix) / np.sum(conf_matrix)\n",
    "print(f\"Conditional Test Error: {test_error}\")"
   ]
  },
  {
   "cell_type": "code",
   "execution_count": 3,
   "metadata": {},
   "outputs": [],
   "source": [
    "# # Load the training and testing data\n",
    "# X_train, y_train = load_data('zip.train.gz')\n",
    "# X_test, y_test = load_data('zip.test.gz')\n",
    "\n",
    "# # Flatten the images for the k-NN algorithm\n",
    "# X_train_flat = X_train.reshape(X_train.shape[0], -1)\n",
    "# X_test_flat = X_test.reshape(X_test.shape[0], -1)"
   ]
  }
 ],
 "metadata": {
  "kernelspec": {
   "display_name": "Python 3",
   "language": "python",
   "name": "python3"
  },
  "language_info": {
   "codemirror_mode": {
    "name": "ipython",
    "version": 3
   },
   "file_extension": ".py",
   "mimetype": "text/x-python",
   "name": "python",
   "nbconvert_exporter": "python",
   "pygments_lexer": "ipython3",
   "version": "3.9.12"
  }
 },
 "nbformat": 4,
 "nbformat_minor": 2
}
